{
 "cells": [
  {
   "cell_type": "code",
   "execution_count": 3,
   "id": "172a7e89",
   "metadata": {},
   "outputs": [
    {
     "name": "stdout",
     "output_type": "stream",
     "text": [
      "enter first number=4\n",
      "enter second number5\n",
      "BEFORE SWAPPING\n",
      " value of a= 4 value of b= 5\n",
      "AFTER SWAPPING\n",
      " value of a= 5 value of b= 4\n"
     ]
    }
   ],
   "source": [
    "#Swap the number without using third varible\n",
    "a=int(input(\"enter first number=\"))\n",
    "b=int(input(\"enter second number\"))\n",
    "print(\"BEFORE SWAPPING\\n\",\"value of a=\",a,\"value of b=\",b)\n",
    "a,b=b,a\n",
    "print(\"AFTER SWAPPING\\n\",\"value of a=\",a,\"value of b=\",b)"
   ]
  },
  {
   "cell_type": "code",
   "execution_count": 21,
   "id": "afca2274",
   "metadata": {},
   "outputs": [
    {
     "name": "stdout",
     "output_type": "stream",
     "text": [
      "enter the number=5678\n",
      "8765\n"
     ]
    }
   ],
   "source": [
    "#Write a Program to extract each digit from an integer in the reverse order.\n",
    "#For example, If the given int is 7536, the output shall be “6 3 5 7“, with a space separating the digits.\n",
    "a=int(input(\"enter the number=\"))\n",
    "rev=0\n",
    "while(a>0):\n",
    "    x=a%10\n",
    "    rev=rev*10+x\n",
    "    a=a//10\n",
    "print(rev)"
   ]
  },
  {
   "cell_type": "code",
   "execution_count": 27,
   "id": "c3a4867c",
   "metadata": {},
   "outputs": [
    {
     "name": "stdout",
     "output_type": "stream",
     "text": [
      "Enter number=123\n",
      "Sum of digits 6\n"
     ]
    }
   ],
   "source": [
    "#Write a program that will give you the sum of 3 digits\n",
    "n=int(input(\"Enter number=\"))\n",
    "sum=0\n",
    "for i in str(n):\n",
    "    sum=sum+int(i)\n",
    "print(\"Sum of digits\",sum)"
   ]
  },
  {
   "cell_type": "code",
   "execution_count": 32,
   "id": "47fea57a",
   "metadata": {},
   "outputs": [
    {
     "name": "stdout",
     "output_type": "stream",
     "text": [
      "enter first number=3\n",
      "enter second number=5\n",
      "enter third number=2\n",
      "9   25   4\n"
     ]
    }
   ],
   "source": [
    "#Write a program that will take three digits from the user and add the square of each digits\n",
    "a=int(input(\"enter first number=\"))\n",
    "b=int(input(\"enter second number=\"))\n",
    "c=int(input(\"enter third number=\"))\n",
    "num1=a**2\n",
    "num2=b**2\n",
    "num3=c**2\n",
    "print(num1,\" \",num2,\" \",num3)"
   ]
  },
  {
   "cell_type": "code",
   "execution_count": 1,
   "id": "c95f6adf",
   "metadata": {},
   "outputs": [
    {
     "name": "stdout",
     "output_type": "stream",
     "text": [
      "enter any number=153\n",
      "it is armstrong number\n"
     ]
    }
   ],
   "source": [
    "#Write a program that will check whether the number is armstrong number or not.\n",
    "a=int(input(\"enter any number=\"))\n",
    "temp=a\n",
    "order=len(str(a))\n",
    "sum=0\n",
    "while temp>0:\n",
    "    b=temp%10\n",
    "    sum+=b**3\n",
    "    temp=temp//10\n",
    "if(sum==a):\n",
    "    print(\"it is armstrong number\")\n",
    "else:\n",
    "    print(\"it is not armstrong number\")"
   ]
  },
  {
   "cell_type": "code",
   "execution_count": 30,
   "id": "5171d1bf",
   "metadata": {},
   "outputs": [],
   "source": [
    "#Write a program that will take user input of (4 digits number) and check whether the\n",
    "#number is narcissist number or not."
   ]
  },
  {
   "cell_type": "code",
   "execution_count": 33,
   "id": "a2441ff2",
   "metadata": {},
   "outputs": [
    {
     "name": "stdout",
     "output_type": "stream",
     "text": [
      "ENTER ANY NUMBER=3.4567\n",
      "3.46\n"
     ]
    }
   ],
   "source": [
    "#Display float number with 2 decimal places using print()\n",
    "n=float(input(\"ENTER ANY NUMBER=\"))\n",
    "a=round(n,2)\n",
    "print(a)"
   ]
  },
  {
   "cell_type": "code",
   "execution_count": 4,
   "id": "9a42a8bd",
   "metadata": {},
   "outputs": [
    {
     "name": "stdout",
     "output_type": "stream",
     "text": [
      "enter any number for finding factor=12\n",
      "1\n",
      "2\n",
      "3\n",
      "4\n",
      "6\n",
      "12\n"
     ]
    }
   ],
   "source": [
    "# Print all factors of a given number provided by the user.\n",
    "num=int(input(\"enter any number for finding factor=\"))\n",
    "for i in range(1,num+1):\n",
    "    if num%i==0:\n",
    "        print(i)"
   ]
  },
  {
   "cell_type": "code",
   "execution_count": 8,
   "id": "16ed7bf9",
   "metadata": {},
   "outputs": [
    {
     "name": "stdout",
     "output_type": "stream",
     "text": [
      "enter float number= 1\n",
      "2.2\n",
      "enter float number= 2\n",
      "82.3\n",
      "enter float number= 3\n",
      "4\n",
      "enter float number= 4\n",
      "5.3\n",
      "enter float number= 5\n",
      "5\n",
      "[2.2, 82.3, 4.0, 5.3, 5.0]\n"
     ]
    }
   ],
   "source": [
    " #Accept a list of 5 float numbers as an input from the user\n",
    "a=[]\n",
    "for i in range(0,5):\n",
    "    print(\"enter float number=\",i+1)\n",
    "    item=float(input())\n",
    "    a.append(item)\n",
    "print(a)"
   ]
  },
  {
   "cell_type": "markdown",
   "id": "4d6d745b",
   "metadata": {},
   "source": []
  },
  {
   "cell_type": "code",
   "execution_count": null,
   "id": "28c54122",
   "metadata": {},
   "outputs": [],
   "source": []
  }
 ],
 "metadata": {
  "kernelspec": {
   "display_name": "Python 3",
   "language": "python",
   "name": "python3"
  },
  "language_info": {
   "codemirror_mode": {
    "name": "ipython",
    "version": 3
   },
   "file_extension": ".py",
   "mimetype": "text/x-python",
   "name": "python",
   "nbconvert_exporter": "python",
   "pygments_lexer": "ipython3",
   "version": "3.8.8"
  }
 },
 "nbformat": 4,
 "nbformat_minor": 5
}
